{
  "nbformat": 4,
  "nbformat_minor": 0,
  "metadata": {
    "colab": {
      "provenance": [],
      "authorship_tag": "ABX9TyM9qZL/SYF879EYlJ+y4eTf",
      "include_colab_link": true
    },
    "kernelspec": {
      "name": "python3",
      "display_name": "Python 3"
    },
    "language_info": {
      "name": "python"
    }
  },
  "cells": [
    {
      "cell_type": "markdown",
      "metadata": {
        "id": "view-in-github",
        "colab_type": "text"
      },
      "source": [
        "<a href=\"https://colab.research.google.com/github/chw8207/math_basic/blob/main/%EB%B3%80%ED%99%94%EC%9C%A8%EA%B3%BC_%EB%8F%84%ED%95%A8%EC%88%98.ipynb\" target=\"_parent\"><img src=\"https://colab.research.google.com/assets/colab-badge.svg\" alt=\"Open In Colab\"/></a>"
      ]
    },
    {
      "cell_type": "markdown",
      "source": [
        "### x=5에서 변화율\n",
        "$$y = x^2$$\n",
        "$$y = e^x$$"
      ],
      "metadata": {
        "id": "MO6ncBUl8dES"
      }
    },
    {
      "cell_type": "code",
      "execution_count": 9,
      "metadata": {
        "colab": {
          "base_uri": "https://localhost:8080/"
        },
        "id": "1vSPQ1RX498e",
        "outputId": "cd3b8613-d208-420c-ed17-425390292a8c"
      },
      "outputs": [
        {
          "output_type": "stream",
          "name": "stdout",
          "text": [
            "f(x) = 25, df(x) = 10.000 at x = 5\n",
            "f(x) = 25, df(x) = 10.010 at x = 5\n"
          ]
        }
      ],
      "source": [
        "import numpy as np\n",
        "\n",
        "x = 5\n",
        "\n",
        "# 함수와 순간의 변화율을 계산해주는 알려진 함수 정의\n",
        "f = lambda x : x**2\n",
        "df = lambda x : 2*x  # 변화율을 정확히 계산하는 함수\n",
        "\n",
        "# 정확한 변화율 출력\n",
        "print(f'f(x) = {f(x)}, df(x) = {df(x):.3f} at x = {x}')\n",
        "# 0.01 공식을 통해 계산한 값 출력\n",
        "print(f'f(x) = {f(x)}, df(x) = {(f(x+0.01)-f(x))/0.01:.3f} at x = {x}')"
      ]
    },
    {
      "cell_type": "code",
      "source": [
        "import numpy as np\n",
        "\n",
        "x = 5\n",
        "\n",
        "# 함수와 순간의 변화율을 계산해주는 알려진 함수 정의\n",
        "f = lambda x : np.exp(x)\n",
        "df = lambda x : np.exp(x)\n",
        "\n",
        "print(f'f(x) = {f(x)}, df(x) = {df(x):.3f} at x = {x}')\n",
        "print(f'f(x) = {f(x)}, df(x) = {(f(x+0.01)-f(x))/0.01:.3f} at x = {x}')"
      ],
      "metadata": {
        "colab": {
          "base_uri": "https://localhost:8080/"
        },
        "id": "eJRJ6FBQ-No0",
        "outputId": "73cf0b41-2425-42dd-9461-87527f0220df"
      },
      "execution_count": 15,
      "outputs": [
        {
          "output_type": "stream",
          "name": "stdout",
          "text": [
            "f(x) = 148.4131591025766, df(x) = 148.413 at x = 5\n",
            "f(x) = 148.4131591025766, df(x) = 149.158 at x = 5\n"
          ]
        }
      ]
    }
  ]
}